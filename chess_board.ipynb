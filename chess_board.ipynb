{
 "cells": [
  {
   "cell_type": "code",
   "execution_count": 18,
   "metadata": {},
   "outputs": [],
   "source": [
    "import numpy as np\n",
    "import matplotlib.pyplot as plt\n",
    "\n",
    "class ChessBoard:\n",
    "    blue = []\n",
    "    red = []\n",
    "    def __init__(self):\n",
    "        self.grid = np.zeros([8,8,3])\n",
    "        for i in range(8):\n",
    "            for j in range(8):\n",
    "                if (i%2 == 0 and j%2 == 0) or (i%2 == 1 and j%2 == 1):\n",
    "                    self.grid[i,j]= [1,1,1]\n",
    "\n",
    "    def render(self):\n",
    "        plt.imshow(self.grid)\n",
    "\n",
    "    def add_red(self,x,y):\n",
    "        ChessBoard.red = []\n",
    "        lst = []\n",
    "        lst.append(y)\n",
    "        lst.append(x)\n",
    "        ChessBoard.red.append(lst)\n",
    "        self.grid[x,y] = [1,0,0]\n",
    "    def add_blue(self,x,y):\n",
    "        ChessBoard.blue = []\n",
    "        lst = []\n",
    "        lst.append(y)\n",
    "        lst.append(x)\n",
    "        ChessBoard.blue.append(lst)\n",
    "        self.grid[x,y] = [0,0,1]\n",
    "\n",
    "    @staticmethod\n",
    "    def is_diagonal(ax,ay,bx,by):\n",
    "        \"\"\"\n",
    "        given coordinates for 2 points a and b\n",
    "        determine if they are diagonals\n",
    "        \"\"\"\n",
    "        dx = abs(ax - bx)\n",
    "        dy = abs(ay - by)\n",
    "        return dx == dy\n",
    "    \n",
    "    def is_under_attack(self):\n",
    "        check = False\n",
    "\n",
    "        result = ChessBoard.is_diagonal(ChessBoard.red[0][0],ChessBoard.red[0][1],ChessBoard.blue[0][0]        ,ChessBoard.blue[0][1])\n",
    "        if result:\n",
    "            check = True\n",
    "\n",
    "        if ChessBoard.red[0][0] == ChessBoard.blue[0][0]:\n",
    "            check = True\n",
    "\n",
    "        if ChessBoard.red[0][1] == ChessBoard.blue[0][1]:\n",
    "            check = True\n",
    "\n",
    "        return check\n"
   ]
  },
  {
   "cell_type": "code",
   "execution_count": 19,
   "metadata": {},
   "outputs": [
    {
     "name": "stdout",
     "output_type": "stream",
     "text": [
      "passed!!\n"
     ]
    },
    {
     "data": {
      "image/png": "[encoded data removed]",
      "text/plain": [
       "<Figure size 432x288 with 1 Axes>"
      ]
     },
     "metadata": {
      "needs_background": "light"
     },
     "output_type": "display_data"
    }
   ],
   "source": [
    "board = ChessBoard()\n",
    "board.add_blue(6,2)\n",
    "board.add_red(6,6)\n",
    "board.render()\n",
    "assert board.is_under_attack() == True\n",
    "print('passed!!')"
   ]
  },
  {
   "cell_type": "code",
   "execution_count": 13,
   "metadata": {},
   "outputs": [
    {
     "name": "stdout",
     "output_type": "stream",
     "text": [
      "passed!!\n"
     ]
    },
    {
     "data": {
      "image/png": "[encoded data removed]",
      "text/plain": [
       "<Figure size 432x288 with 1 Axes>"
      ]
     },
     "metadata": {
      "needs_background": "light"
     },
     "output_type": "display_data"
    }
   ],
   "source": [
    "second_board = ChessBoard()\n",
    "second_board.add_red(1,3)\n",
    "second_board.add_blue(6,3)\n",
    "second_board.render()\n",
    "assert second_board.is_under_attack() == True\n",
    "print('passed!!')"
   ]
  },
  {
   "cell_type": "code",
   "execution_count": 14,
   "metadata": {},
   "outputs": [
    {
     "name": "stdout",
     "output_type": "stream",
     "text": [
      "passed!!\n"
     ]
    },
    {
     "data": {
      "image/png": "[encoded data removed]",
      "text/plain": [
       "<Figure size 432x288 with 1 Axes>"
      ]
     },
     "metadata": {
      "needs_background": "light"
     },
     "output_type": "display_data"
    }
   ],
   "source": [
    "rd_board = ChessBoard()\n",
    "rd_board.add_red(0,0)\n",
    "rd_board.add_blue(7,7)\n",
    "rd_board.render()\n",
    "assert rd_board.is_under_attack() == True\n",
    "print('passed!!')"
   ]
  },
  {
   "cell_type": "code",
   "execution_count": 15,
   "metadata": {},
   "outputs": [
    {
     "name": "stdout",
     "output_type": "stream",
     "text": [
      "passed!!\n"
     ]
    },
    {
     "data": {
      "image/png": "[encoded data removed]",
      "text/plain": [
       "<Figure size 432x288 with 1 Axes>"
      ]
     },
     "metadata": {
      "needs_background": "light"
     },
     "output_type": "display_data"
    }
   ],
   "source": [
    "rth_board = ChessBoard()\n",
    "rth_board.add_red(6,6)\n",
    "rth_board.add_blue(2,4)\n",
    "rth_board.render()\n",
    "assert rth_board.is_under_attack() == False\n",
    "print('passed!!')"
   ]
  },
  {
   "cell_type": "code",
   "execution_count": null,
   "metadata": {},
   "outputs": [],
   "source": []
  }
 ],
 "metadata": {
  "kernelspec": {
   "display_name": "Python 3",
   "language": "python",
   "name": "python3"
  },
  "language_info": {
   "codemirror_mode": {
    "name": "ipython",
    "version": 3
   },
   "file_extension": ".py",
   "mimetype": "text/x-python",
   "name": "python",
   "nbconvert_exporter": "python",
   "pygments_lexer": "ipython3",
   "version": "3.8.5"
  }
 },
 "nbformat": 4,
 "nbformat_minor": 4
}
